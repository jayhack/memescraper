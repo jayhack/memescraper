{
 "cells": [
  {
   "cell_type": "code",
   "execution_count": 8,
   "metadata": {
    "collapsed": false
   },
   "outputs": [],
   "source": [
    "import os\n",
    "import sys\n",
    "import pandas as pd\n",
    "from collections import Counter\n",
    "import pickle\n",
    "from reddit import *\n",
    "from imgur import *\n",
    "\n",
    "\n",
    "reddit_dir = './data/reddit'\n",
    "imgur_dir = './data/imgur'\n",
    "reddit_dates = [os.path.join(reddit_dir, r) for r in os.listdir(reddit_dir)]\n",
    "imgur_dates = [os.path.join(imgur_dir, r) for r in os.listdir(imgur_dir)]\n",
    "                \n",
    "    \n",
    "reddit_files = []\n",
    "for path in reddit_dates:\n",
    "    reddit_files += [os.path.join(path, x) for x in os.listdir(path)]\n",
    "\n",
    "imgur_files = []\n",
    "for path in imgur_dates:\n",
    "    imgur_files += [os.path.join(path, x) for x in os.listdir(path)]\n",
    "    \n",
    "reddit_memes = []\n",
    "for reddit_file in reddit_files:\n",
    "    reddit_memes += pickle.load(open(reddit_file))\n",
    "    \n",
    "imgur_memes = []\n",
    "for imgur_file in imgur_files:\n",
    "    imgur_memes += pickle.load(open(imgur_file))"
   ]
  },
  {
   "cell_type": "code",
   "execution_count": 12,
   "metadata": {
    "collapsed": false
   },
   "outputs": [
    {
     "name": "stdout",
     "output_type": "stream",
     "text": [
      "# unique imgur memes: %d 2455\n"
     ]
    }
   ],
   "source": [
    "ids = [m.id for m in imgur_memes]\n",
    "print '# unique imgur memes: %d', len(set(ids))"
   ]
  },
  {
   "cell_type": "code",
   "execution_count": null,
   "metadata": {
    "collapsed": true
   },
   "outputs": [],
   "source": [
    "ids = [m.id for m in imgur_memes]\n",
    "print '# unique imgur memes: %d', len(set(ids))"
   ]
  }
 ],
 "metadata": {
  "kernelspec": {
   "display_name": "Python 2",
   "language": "python",
   "name": "python2"
  },
  "language_info": {
   "codemirror_mode": {
    "name": "ipython",
    "version": 2
   },
   "file_extension": ".py",
   "mimetype": "text/x-python",
   "name": "python",
   "nbconvert_exporter": "python",
   "pygments_lexer": "ipython2",
   "version": "2.7.10"
  }
 },
 "nbformat": 4,
 "nbformat_minor": 0
}
